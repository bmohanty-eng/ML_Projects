{
 "cells": [
  {
   "cell_type": "code",
   "execution_count": 1,
   "metadata": {},
   "outputs": [],
   "source": [
    "# Import the libraries\n",
    "import numpy as np\n",
    "import pandas as pd\n",
    "import matplotlib.pyplot as plt\n",
    "import seaborn as sns\n",
    "%matplotlib inline"
   ]
  },
  {
   "cell_type": "code",
   "execution_count": 88,
   "metadata": {},
   "outputs": [],
   "source": [
    "#import sklearn package details\n",
    "from sklearn.model_selection import train_test_split\n",
    "from sklearn.linear_model import LinearRegression\n",
    "from sklearn.ensemble import RandomForestRegressor\n",
    "from sklearn.metrics import classification_report, confusion_matrix"
   ]
  },
  {
   "cell_type": "code",
   "execution_count": 69,
   "metadata": {},
   "outputs": [],
   "source": [
    "# load the data\n",
    "df = pd.read_csv('games.csv')"
   ]
  },
  {
   "cell_type": "code",
   "execution_count": 43,
   "metadata": {},
   "outputs": [
    {
     "data": {
      "text/html": [
       "<div>\n",
       "<style scoped>\n",
       "    .dataframe tbody tr th:only-of-type {\n",
       "        vertical-align: middle;\n",
       "    }\n",
       "\n",
       "    .dataframe tbody tr th {\n",
       "        vertical-align: top;\n",
       "    }\n",
       "\n",
       "    .dataframe thead th {\n",
       "        text-align: right;\n",
       "    }\n",
       "</style>\n",
       "<table border=\"1\" class=\"dataframe\">\n",
       "  <thead>\n",
       "    <tr style=\"text-align: right;\">\n",
       "      <th></th>\n",
       "      <th>id</th>\n",
       "      <th>type</th>\n",
       "      <th>name</th>\n",
       "      <th>yearpublished</th>\n",
       "      <th>minplayers</th>\n",
       "      <th>maxplayers</th>\n",
       "      <th>playingtime</th>\n",
       "      <th>minplaytime</th>\n",
       "      <th>maxplaytime</th>\n",
       "      <th>minage</th>\n",
       "      <th>users_rated</th>\n",
       "      <th>average_rating</th>\n",
       "      <th>bayes_average_rating</th>\n",
       "      <th>total_owners</th>\n",
       "      <th>total_traders</th>\n",
       "      <th>total_wanters</th>\n",
       "      <th>total_wishers</th>\n",
       "      <th>total_comments</th>\n",
       "      <th>total_weights</th>\n",
       "      <th>average_weight</th>\n",
       "    </tr>\n",
       "  </thead>\n",
       "  <tbody>\n",
       "    <tr>\n",
       "      <td>0</td>\n",
       "      <td>12333</td>\n",
       "      <td>boardgame</td>\n",
       "      <td>Twilight Struggle</td>\n",
       "      <td>2005.0</td>\n",
       "      <td>2.0</td>\n",
       "      <td>2.0</td>\n",
       "      <td>180.0</td>\n",
       "      <td>180.0</td>\n",
       "      <td>180.0</td>\n",
       "      <td>13.0</td>\n",
       "      <td>20113</td>\n",
       "      <td>8.33774</td>\n",
       "      <td>8.22186</td>\n",
       "      <td>26647</td>\n",
       "      <td>372</td>\n",
       "      <td>1219</td>\n",
       "      <td>5865</td>\n",
       "      <td>5347</td>\n",
       "      <td>2562</td>\n",
       "      <td>3.4785</td>\n",
       "    </tr>\n",
       "    <tr>\n",
       "      <td>1</td>\n",
       "      <td>120677</td>\n",
       "      <td>boardgame</td>\n",
       "      <td>Terra Mystica</td>\n",
       "      <td>2012.0</td>\n",
       "      <td>2.0</td>\n",
       "      <td>5.0</td>\n",
       "      <td>150.0</td>\n",
       "      <td>60.0</td>\n",
       "      <td>150.0</td>\n",
       "      <td>12.0</td>\n",
       "      <td>14383</td>\n",
       "      <td>8.28798</td>\n",
       "      <td>8.14232</td>\n",
       "      <td>16519</td>\n",
       "      <td>132</td>\n",
       "      <td>1586</td>\n",
       "      <td>6277</td>\n",
       "      <td>2526</td>\n",
       "      <td>1423</td>\n",
       "      <td>3.8939</td>\n",
       "    </tr>\n",
       "    <tr>\n",
       "      <td>2</td>\n",
       "      <td>102794</td>\n",
       "      <td>boardgame</td>\n",
       "      <td>Caverna: The Cave Farmers</td>\n",
       "      <td>2013.0</td>\n",
       "      <td>1.0</td>\n",
       "      <td>7.0</td>\n",
       "      <td>210.0</td>\n",
       "      <td>30.0</td>\n",
       "      <td>210.0</td>\n",
       "      <td>12.0</td>\n",
       "      <td>9262</td>\n",
       "      <td>8.28994</td>\n",
       "      <td>8.06886</td>\n",
       "      <td>12230</td>\n",
       "      <td>99</td>\n",
       "      <td>1476</td>\n",
       "      <td>5600</td>\n",
       "      <td>1700</td>\n",
       "      <td>777</td>\n",
       "      <td>3.7761</td>\n",
       "    </tr>\n",
       "    <tr>\n",
       "      <td>3</td>\n",
       "      <td>25613</td>\n",
       "      <td>boardgame</td>\n",
       "      <td>Through the Ages: A Story of Civilization</td>\n",
       "      <td>2006.0</td>\n",
       "      <td>2.0</td>\n",
       "      <td>4.0</td>\n",
       "      <td>240.0</td>\n",
       "      <td>240.0</td>\n",
       "      <td>240.0</td>\n",
       "      <td>12.0</td>\n",
       "      <td>13294</td>\n",
       "      <td>8.20407</td>\n",
       "      <td>8.05804</td>\n",
       "      <td>14343</td>\n",
       "      <td>362</td>\n",
       "      <td>1084</td>\n",
       "      <td>5075</td>\n",
       "      <td>3378</td>\n",
       "      <td>1642</td>\n",
       "      <td>4.1590</td>\n",
       "    </tr>\n",
       "    <tr>\n",
       "      <td>4</td>\n",
       "      <td>3076</td>\n",
       "      <td>boardgame</td>\n",
       "      <td>Puerto Rico</td>\n",
       "      <td>2002.0</td>\n",
       "      <td>2.0</td>\n",
       "      <td>5.0</td>\n",
       "      <td>150.0</td>\n",
       "      <td>90.0</td>\n",
       "      <td>150.0</td>\n",
       "      <td>12.0</td>\n",
       "      <td>39883</td>\n",
       "      <td>8.14261</td>\n",
       "      <td>8.04524</td>\n",
       "      <td>44362</td>\n",
       "      <td>795</td>\n",
       "      <td>861</td>\n",
       "      <td>5414</td>\n",
       "      <td>9173</td>\n",
       "      <td>5213</td>\n",
       "      <td>3.2943</td>\n",
       "    </tr>\n",
       "  </tbody>\n",
       "</table>\n",
       "</div>"
      ],
      "text/plain": [
       "       id       type                                       name  \\\n",
       "0   12333  boardgame                          Twilight Struggle   \n",
       "1  120677  boardgame                              Terra Mystica   \n",
       "2  102794  boardgame                  Caverna: The Cave Farmers   \n",
       "3   25613  boardgame  Through the Ages: A Story of Civilization   \n",
       "4    3076  boardgame                                Puerto Rico   \n",
       "\n",
       "   yearpublished  minplayers  maxplayers  playingtime  minplaytime  \\\n",
       "0         2005.0         2.0         2.0        180.0        180.0   \n",
       "1         2012.0         2.0         5.0        150.0         60.0   \n",
       "2         2013.0         1.0         7.0        210.0         30.0   \n",
       "3         2006.0         2.0         4.0        240.0        240.0   \n",
       "4         2002.0         2.0         5.0        150.0         90.0   \n",
       "\n",
       "   maxplaytime  minage  users_rated  average_rating  bayes_average_rating  \\\n",
       "0        180.0    13.0        20113         8.33774               8.22186   \n",
       "1        150.0    12.0        14383         8.28798               8.14232   \n",
       "2        210.0    12.0         9262         8.28994               8.06886   \n",
       "3        240.0    12.0        13294         8.20407               8.05804   \n",
       "4        150.0    12.0        39883         8.14261               8.04524   \n",
       "\n",
       "   total_owners  total_traders  total_wanters  total_wishers  total_comments  \\\n",
       "0         26647            372           1219           5865            5347   \n",
       "1         16519            132           1586           6277            2526   \n",
       "2         12230             99           1476           5600            1700   \n",
       "3         14343            362           1084           5075            3378   \n",
       "4         44362            795            861           5414            9173   \n",
       "\n",
       "   total_weights  average_weight  \n",
       "0           2562          3.4785  \n",
       "1           1423          3.8939  \n",
       "2            777          3.7761  \n",
       "3           1642          4.1590  \n",
       "4           5213          3.2943  "
      ]
     },
     "execution_count": 43,
     "metadata": {},
     "output_type": "execute_result"
    }
   ],
   "source": [
    "# Exploratory data analysis\n",
    "df.head()"
   ]
  },
  {
   "cell_type": "code",
   "execution_count": 6,
   "metadata": {},
   "outputs": [
    {
     "name": "stdout",
     "output_type": "stream",
     "text": [
      "(81312, 20)\n"
     ]
    }
   ],
   "source": [
    "print (df.shape)"
   ]
  },
  {
   "cell_type": "code",
   "execution_count": 7,
   "metadata": {},
   "outputs": [
    {
     "data": {
      "text/html": [
       "<div>\n",
       "<style scoped>\n",
       "    .dataframe tbody tr th:only-of-type {\n",
       "        vertical-align: middle;\n",
       "    }\n",
       "\n",
       "    .dataframe tbody tr th {\n",
       "        vertical-align: top;\n",
       "    }\n",
       "\n",
       "    .dataframe thead th {\n",
       "        text-align: right;\n",
       "    }\n",
       "</style>\n",
       "<table border=\"1\" class=\"dataframe\">\n",
       "  <thead>\n",
       "    <tr style=\"text-align: right;\">\n",
       "      <th></th>\n",
       "      <th>id</th>\n",
       "      <th>yearpublished</th>\n",
       "      <th>minplayers</th>\n",
       "      <th>maxplayers</th>\n",
       "      <th>playingtime</th>\n",
       "      <th>minplaytime</th>\n",
       "      <th>maxplaytime</th>\n",
       "      <th>minage</th>\n",
       "      <th>users_rated</th>\n",
       "      <th>average_rating</th>\n",
       "      <th>bayes_average_rating</th>\n",
       "      <th>total_owners</th>\n",
       "      <th>total_traders</th>\n",
       "      <th>total_wanters</th>\n",
       "      <th>total_wishers</th>\n",
       "      <th>total_comments</th>\n",
       "      <th>total_weights</th>\n",
       "      <th>average_weight</th>\n",
       "    </tr>\n",
       "  </thead>\n",
       "  <tbody>\n",
       "    <tr>\n",
       "      <td>count</td>\n",
       "      <td>81312.000000</td>\n",
       "      <td>81309.000000</td>\n",
       "      <td>81309.000000</td>\n",
       "      <td>81309.000000</td>\n",
       "      <td>81309.000000</td>\n",
       "      <td>81309.000000</td>\n",
       "      <td>81309.000000</td>\n",
       "      <td>81309.000000</td>\n",
       "      <td>81312.000000</td>\n",
       "      <td>81312.000000</td>\n",
       "      <td>81312.000000</td>\n",
       "      <td>81312.000000</td>\n",
       "      <td>81312.000000</td>\n",
       "      <td>81312.000000</td>\n",
       "      <td>81312.000000</td>\n",
       "      <td>81312.000000</td>\n",
       "      <td>81312.000000</td>\n",
       "      <td>81312.000000</td>\n",
       "    </tr>\n",
       "    <tr>\n",
       "      <td>mean</td>\n",
       "      <td>72278.150138</td>\n",
       "      <td>1806.630668</td>\n",
       "      <td>1.992018</td>\n",
       "      <td>5.637703</td>\n",
       "      <td>51.634788</td>\n",
       "      <td>49.276833</td>\n",
       "      <td>51.634788</td>\n",
       "      <td>6.983975</td>\n",
       "      <td>161.886585</td>\n",
       "      <td>4.212144</td>\n",
       "      <td>1.157632</td>\n",
       "      <td>262.502509</td>\n",
       "      <td>9.236423</td>\n",
       "      <td>12.688890</td>\n",
       "      <td>42.719144</td>\n",
       "      <td>49.290031</td>\n",
       "      <td>16.488009</td>\n",
       "      <td>0.908083</td>\n",
       "    </tr>\n",
       "    <tr>\n",
       "      <td>std</td>\n",
       "      <td>58818.237742</td>\n",
       "      <td>588.517834</td>\n",
       "      <td>0.931034</td>\n",
       "      <td>56.076890</td>\n",
       "      <td>345.699969</td>\n",
       "      <td>334.483934</td>\n",
       "      <td>345.699969</td>\n",
       "      <td>5.035138</td>\n",
       "      <td>1145.978126</td>\n",
       "      <td>3.056551</td>\n",
       "      <td>2.340033</td>\n",
       "      <td>1504.536693</td>\n",
       "      <td>39.757408</td>\n",
       "      <td>60.764207</td>\n",
       "      <td>239.292628</td>\n",
       "      <td>284.862853</td>\n",
       "      <td>115.980285</td>\n",
       "      <td>1.176002</td>\n",
       "    </tr>\n",
       "    <tr>\n",
       "      <td>min</td>\n",
       "      <td>1.000000</td>\n",
       "      <td>-3500.000000</td>\n",
       "      <td>0.000000</td>\n",
       "      <td>0.000000</td>\n",
       "      <td>0.000000</td>\n",
       "      <td>0.000000</td>\n",
       "      <td>0.000000</td>\n",
       "      <td>0.000000</td>\n",
       "      <td>0.000000</td>\n",
       "      <td>0.000000</td>\n",
       "      <td>0.000000</td>\n",
       "      <td>0.000000</td>\n",
       "      <td>0.000000</td>\n",
       "      <td>0.000000</td>\n",
       "      <td>0.000000</td>\n",
       "      <td>0.000000</td>\n",
       "      <td>0.000000</td>\n",
       "      <td>0.000000</td>\n",
       "    </tr>\n",
       "    <tr>\n",
       "      <td>25%</td>\n",
       "      <td>21339.750000</td>\n",
       "      <td>1984.000000</td>\n",
       "      <td>2.000000</td>\n",
       "      <td>2.000000</td>\n",
       "      <td>8.000000</td>\n",
       "      <td>10.000000</td>\n",
       "      <td>8.000000</td>\n",
       "      <td>0.000000</td>\n",
       "      <td>0.000000</td>\n",
       "      <td>0.000000</td>\n",
       "      <td>0.000000</td>\n",
       "      <td>1.000000</td>\n",
       "      <td>0.000000</td>\n",
       "      <td>0.000000</td>\n",
       "      <td>0.000000</td>\n",
       "      <td>0.000000</td>\n",
       "      <td>0.000000</td>\n",
       "      <td>0.000000</td>\n",
       "    </tr>\n",
       "    <tr>\n",
       "      <td>50%</td>\n",
       "      <td>43258.000000</td>\n",
       "      <td>2003.000000</td>\n",
       "      <td>2.000000</td>\n",
       "      <td>4.000000</td>\n",
       "      <td>30.000000</td>\n",
       "      <td>30.000000</td>\n",
       "      <td>30.000000</td>\n",
       "      <td>8.000000</td>\n",
       "      <td>2.000000</td>\n",
       "      <td>5.265620</td>\n",
       "      <td>0.000000</td>\n",
       "      <td>7.000000</td>\n",
       "      <td>0.000000</td>\n",
       "      <td>0.000000</td>\n",
       "      <td>1.000000</td>\n",
       "      <td>1.000000</td>\n",
       "      <td>0.000000</td>\n",
       "      <td>0.000000</td>\n",
       "    </tr>\n",
       "    <tr>\n",
       "      <td>75%</td>\n",
       "      <td>128836.500000</td>\n",
       "      <td>2010.000000</td>\n",
       "      <td>2.000000</td>\n",
       "      <td>6.000000</td>\n",
       "      <td>60.000000</td>\n",
       "      <td>60.000000</td>\n",
       "      <td>60.000000</td>\n",
       "      <td>12.000000</td>\n",
       "      <td>16.000000</td>\n",
       "      <td>6.718777</td>\n",
       "      <td>0.000000</td>\n",
       "      <td>51.000000</td>\n",
       "      <td>2.000000</td>\n",
       "      <td>3.000000</td>\n",
       "      <td>7.000000</td>\n",
       "      <td>9.000000</td>\n",
       "      <td>2.000000</td>\n",
       "      <td>1.916700</td>\n",
       "    </tr>\n",
       "    <tr>\n",
       "      <td>max</td>\n",
       "      <td>184451.000000</td>\n",
       "      <td>2018.000000</td>\n",
       "      <td>99.000000</td>\n",
       "      <td>11299.000000</td>\n",
       "      <td>60120.000000</td>\n",
       "      <td>60120.000000</td>\n",
       "      <td>60120.000000</td>\n",
       "      <td>120.000000</td>\n",
       "      <td>53680.000000</td>\n",
       "      <td>10.000000</td>\n",
       "      <td>8.221860</td>\n",
       "      <td>73188.000000</td>\n",
       "      <td>1395.000000</td>\n",
       "      <td>1586.000000</td>\n",
       "      <td>6402.000000</td>\n",
       "      <td>11798.000000</td>\n",
       "      <td>5996.000000</td>\n",
       "      <td>5.000000</td>\n",
       "    </tr>\n",
       "  </tbody>\n",
       "</table>\n",
       "</div>"
      ],
      "text/plain": [
       "                  id  yearpublished    minplayers    maxplayers   playingtime  \\\n",
       "count   81312.000000   81309.000000  81309.000000  81309.000000  81309.000000   \n",
       "mean    72278.150138    1806.630668      1.992018      5.637703     51.634788   \n",
       "std     58818.237742     588.517834      0.931034     56.076890    345.699969   \n",
       "min         1.000000   -3500.000000      0.000000      0.000000      0.000000   \n",
       "25%     21339.750000    1984.000000      2.000000      2.000000      8.000000   \n",
       "50%     43258.000000    2003.000000      2.000000      4.000000     30.000000   \n",
       "75%    128836.500000    2010.000000      2.000000      6.000000     60.000000   \n",
       "max    184451.000000    2018.000000     99.000000  11299.000000  60120.000000   \n",
       "\n",
       "        minplaytime   maxplaytime        minage   users_rated  average_rating  \\\n",
       "count  81309.000000  81309.000000  81309.000000  81312.000000    81312.000000   \n",
       "mean      49.276833     51.634788      6.983975    161.886585        4.212144   \n",
       "std      334.483934    345.699969      5.035138   1145.978126        3.056551   \n",
       "min        0.000000      0.000000      0.000000      0.000000        0.000000   \n",
       "25%       10.000000      8.000000      0.000000      0.000000        0.000000   \n",
       "50%       30.000000     30.000000      8.000000      2.000000        5.265620   \n",
       "75%       60.000000     60.000000     12.000000     16.000000        6.718777   \n",
       "max    60120.000000  60120.000000    120.000000  53680.000000       10.000000   \n",
       "\n",
       "       bayes_average_rating  total_owners  total_traders  total_wanters  \\\n",
       "count          81312.000000  81312.000000   81312.000000   81312.000000   \n",
       "mean               1.157632    262.502509       9.236423      12.688890   \n",
       "std                2.340033   1504.536693      39.757408      60.764207   \n",
       "min                0.000000      0.000000       0.000000       0.000000   \n",
       "25%                0.000000      1.000000       0.000000       0.000000   \n",
       "50%                0.000000      7.000000       0.000000       0.000000   \n",
       "75%                0.000000     51.000000       2.000000       3.000000   \n",
       "max                8.221860  73188.000000    1395.000000    1586.000000   \n",
       "\n",
       "       total_wishers  total_comments  total_weights  average_weight  \n",
       "count   81312.000000    81312.000000   81312.000000    81312.000000  \n",
       "mean       42.719144       49.290031      16.488009        0.908083  \n",
       "std       239.292628      284.862853     115.980285        1.176002  \n",
       "min         0.000000        0.000000       0.000000        0.000000  \n",
       "25%         0.000000        0.000000       0.000000        0.000000  \n",
       "50%         1.000000        1.000000       0.000000        0.000000  \n",
       "75%         7.000000        9.000000       2.000000        1.916700  \n",
       "max      6402.000000    11798.000000    5996.000000        5.000000  "
      ]
     },
     "execution_count": 7,
     "metadata": {},
     "output_type": "execute_result"
    }
   ],
   "source": [
    "df.describe()"
   ]
  },
  {
   "cell_type": "code",
   "execution_count": 8,
   "metadata": {},
   "outputs": [
    {
     "data": {
      "text/plain": [
       "Index(['id', 'type', 'name', 'yearpublished', 'minplayers', 'maxplayers',\n",
       "       'playingtime', 'minplaytime', 'maxplaytime', 'minage', 'users_rated',\n",
       "       'average_rating', 'bayes_average_rating', 'total_owners',\n",
       "       'total_traders', 'total_wanters', 'total_wishers', 'total_comments',\n",
       "       'total_weights', 'average_weight'],\n",
       "      dtype='object')"
      ]
     },
     "execution_count": 8,
     "metadata": {},
     "output_type": "execute_result"
    }
   ],
   "source": [
    "df.columns ## We are interested in average_rating which is what we want to predict based on the other characteristics of the game"
   ]
  },
  {
   "cell_type": "code",
   "execution_count": 44,
   "metadata": {},
   "outputs": [
    {
     "name": "stdout",
     "output_type": "stream",
     "text": [
      "[[<matplotlib.axes._subplots.AxesSubplot object at 0x0000026E3928DD48>]]\n"
     ]
    },
    {
     "data": {
      "image/png": "[encoded data removed]",
      "text/plain": [
       "<Figure size 432x288 with 1 Axes>"
      ]
     },
     "metadata": {
      "needs_background": "light"
     },
     "output_type": "display_data"
    }
   ],
   "source": [
    "print(df.hist(['average_rating']))"
   ]
  },
  {
   "cell_type": "code",
   "execution_count": 45,
   "metadata": {},
   "outputs": [
    {
     "name": "stdout",
     "output_type": "stream",
     "text": [
      "id                             318\n",
      "type                     boardgame\n",
      "name                    Looney Leo\n",
      "yearpublished                    0\n",
      "minplayers                       0\n",
      "maxplayers                       0\n",
      "playingtime                      0\n",
      "minplaytime                      0\n",
      "maxplaytime                      0\n",
      "minage                           0\n",
      "users_rated                      0\n",
      "average_rating                   0\n",
      "bayes_average_rating             0\n",
      "total_owners                     0\n",
      "total_traders                    0\n",
      "total_wanters                    0\n",
      "total_wishers                    1\n",
      "total_comments                   0\n",
      "total_weights                    0\n",
      "average_weight                   0\n",
      "Name: 13048, dtype: object\n"
     ]
    },
    {
     "data": {
      "text/html": [
       "<div>\n",
       "<style scoped>\n",
       "    .dataframe tbody tr th:only-of-type {\n",
       "        vertical-align: middle;\n",
       "    }\n",
       "\n",
       "    .dataframe tbody tr th {\n",
       "        vertical-align: top;\n",
       "    }\n",
       "\n",
       "    .dataframe thead th {\n",
       "        text-align: right;\n",
       "    }\n",
       "</style>\n",
       "<table border=\"1\" class=\"dataframe\">\n",
       "  <thead>\n",
       "    <tr style=\"text-align: right;\">\n",
       "      <th></th>\n",
       "      <th>id</th>\n",
       "      <th>yearpublished</th>\n",
       "      <th>minplayers</th>\n",
       "      <th>maxplayers</th>\n",
       "      <th>playingtime</th>\n",
       "      <th>minplaytime</th>\n",
       "      <th>maxplaytime</th>\n",
       "      <th>minage</th>\n",
       "      <th>users_rated</th>\n",
       "      <th>average_rating</th>\n",
       "      <th>bayes_average_rating</th>\n",
       "      <th>total_owners</th>\n",
       "      <th>total_traders</th>\n",
       "      <th>total_wanters</th>\n",
       "      <th>total_wishers</th>\n",
       "      <th>total_comments</th>\n",
       "      <th>total_weights</th>\n",
       "      <th>average_weight</th>\n",
       "    </tr>\n",
       "  </thead>\n",
       "  <tbody>\n",
       "    <tr>\n",
       "      <td>count</td>\n",
       "      <td>24380.000000</td>\n",
       "      <td>24379.000000</td>\n",
       "      <td>24379.000000</td>\n",
       "      <td>24379.000000</td>\n",
       "      <td>24379.000000</td>\n",
       "      <td>24379.000000</td>\n",
       "      <td>24379.000000</td>\n",
       "      <td>24379.000000</td>\n",
       "      <td>24380.0</td>\n",
       "      <td>24380.0</td>\n",
       "      <td>24380.0</td>\n",
       "      <td>24380.000000</td>\n",
       "      <td>24380.000000</td>\n",
       "      <td>24380.000000</td>\n",
       "      <td>24380.000000</td>\n",
       "      <td>24380.000000</td>\n",
       "      <td>24380.000000</td>\n",
       "      <td>24380.000000</td>\n",
       "    </tr>\n",
       "    <tr>\n",
       "      <td>mean</td>\n",
       "      <td>91318.910747</td>\n",
       "      <td>1647.510357</td>\n",
       "      <td>1.961606</td>\n",
       "      <td>5.786948</td>\n",
       "      <td>32.313220</td>\n",
       "      <td>30.200008</td>\n",
       "      <td>32.313220</td>\n",
       "      <td>5.562205</td>\n",
       "      <td>0.0</td>\n",
       "      <td>0.0</td>\n",
       "      <td>0.0</td>\n",
       "      <td>1.516120</td>\n",
       "      <td>0.079368</td>\n",
       "      <td>0.307588</td>\n",
       "      <td>1.105209</td>\n",
       "      <td>0.230804</td>\n",
       "      <td>0.035439</td>\n",
       "      <td>0.064623</td>\n",
       "    </tr>\n",
       "    <tr>\n",
       "      <td>std</td>\n",
       "      <td>57407.651794</td>\n",
       "      <td>753.173533</td>\n",
       "      <td>1.194273</td>\n",
       "      <td>66.871729</td>\n",
       "      <td>111.860042</td>\n",
       "      <td>108.705701</td>\n",
       "      <td>111.860042</td>\n",
       "      <td>5.129236</td>\n",
       "      <td>0.0</td>\n",
       "      <td>0.0</td>\n",
       "      <td>0.0</td>\n",
       "      <td>2.809881</td>\n",
       "      <td>0.369331</td>\n",
       "      <td>1.685498</td>\n",
       "      <td>7.934577</td>\n",
       "      <td>0.693659</td>\n",
       "      <td>0.199406</td>\n",
       "      <td>0.394526</td>\n",
       "    </tr>\n",
       "    <tr>\n",
       "      <td>min</td>\n",
       "      <td>318.000000</td>\n",
       "      <td>-2500.000000</td>\n",
       "      <td>0.000000</td>\n",
       "      <td>0.000000</td>\n",
       "      <td>0.000000</td>\n",
       "      <td>0.000000</td>\n",
       "      <td>0.000000</td>\n",
       "      <td>0.000000</td>\n",
       "      <td>0.0</td>\n",
       "      <td>0.0</td>\n",
       "      <td>0.0</td>\n",
       "      <td>0.000000</td>\n",
       "      <td>0.000000</td>\n",
       "      <td>0.000000</td>\n",
       "      <td>0.000000</td>\n",
       "      <td>0.000000</td>\n",
       "      <td>0.000000</td>\n",
       "      <td>0.000000</td>\n",
       "    </tr>\n",
       "    <tr>\n",
       "      <td>25%</td>\n",
       "      <td>35511.500000</td>\n",
       "      <td>1952.000000</td>\n",
       "      <td>2.000000</td>\n",
       "      <td>2.000000</td>\n",
       "      <td>0.000000</td>\n",
       "      <td>0.000000</td>\n",
       "      <td>0.000000</td>\n",
       "      <td>0.000000</td>\n",
       "      <td>0.0</td>\n",
       "      <td>0.0</td>\n",
       "      <td>0.0</td>\n",
       "      <td>0.000000</td>\n",
       "      <td>0.000000</td>\n",
       "      <td>0.000000</td>\n",
       "      <td>0.000000</td>\n",
       "      <td>0.000000</td>\n",
       "      <td>0.000000</td>\n",
       "      <td>0.000000</td>\n",
       "    </tr>\n",
       "    <tr>\n",
       "      <td>50%</td>\n",
       "      <td>89005.000000</td>\n",
       "      <td>1997.000000</td>\n",
       "      <td>2.000000</td>\n",
       "      <td>4.000000</td>\n",
       "      <td>20.000000</td>\n",
       "      <td>15.000000</td>\n",
       "      <td>20.000000</td>\n",
       "      <td>6.000000</td>\n",
       "      <td>0.0</td>\n",
       "      <td>0.0</td>\n",
       "      <td>0.0</td>\n",
       "      <td>1.000000</td>\n",
       "      <td>0.000000</td>\n",
       "      <td>0.000000</td>\n",
       "      <td>0.000000</td>\n",
       "      <td>0.000000</td>\n",
       "      <td>0.000000</td>\n",
       "      <td>0.000000</td>\n",
       "    </tr>\n",
       "    <tr>\n",
       "      <td>75%</td>\n",
       "      <td>143968.500000</td>\n",
       "      <td>2010.000000</td>\n",
       "      <td>2.000000</td>\n",
       "      <td>6.000000</td>\n",
       "      <td>45.000000</td>\n",
       "      <td>30.000000</td>\n",
       "      <td>45.000000</td>\n",
       "      <td>10.000000</td>\n",
       "      <td>0.0</td>\n",
       "      <td>0.0</td>\n",
       "      <td>0.0</td>\n",
       "      <td>2.000000</td>\n",
       "      <td>0.000000</td>\n",
       "      <td>0.000000</td>\n",
       "      <td>1.000000</td>\n",
       "      <td>0.000000</td>\n",
       "      <td>0.000000</td>\n",
       "      <td>0.000000</td>\n",
       "    </tr>\n",
       "    <tr>\n",
       "      <td>max</td>\n",
       "      <td>184451.000000</td>\n",
       "      <td>2018.000000</td>\n",
       "      <td>99.000000</td>\n",
       "      <td>10000.000000</td>\n",
       "      <td>10000.000000</td>\n",
       "      <td>10000.000000</td>\n",
       "      <td>10000.000000</td>\n",
       "      <td>90.000000</td>\n",
       "      <td>0.0</td>\n",
       "      <td>0.0</td>\n",
       "      <td>0.0</td>\n",
       "      <td>87.000000</td>\n",
       "      <td>16.000000</td>\n",
       "      <td>72.000000</td>\n",
       "      <td>424.000000</td>\n",
       "      <td>28.000000</td>\n",
       "      <td>3.000000</td>\n",
       "      <td>5.000000</td>\n",
       "    </tr>\n",
       "  </tbody>\n",
       "</table>\n",
       "</div>"
      ],
      "text/plain": [
       "                  id  yearpublished    minplayers    maxplayers   playingtime  \\\n",
       "count   24380.000000   24379.000000  24379.000000  24379.000000  24379.000000   \n",
       "mean    91318.910747    1647.510357      1.961606      5.786948     32.313220   \n",
       "std     57407.651794     753.173533      1.194273     66.871729    111.860042   \n",
       "min       318.000000   -2500.000000      0.000000      0.000000      0.000000   \n",
       "25%     35511.500000    1952.000000      2.000000      2.000000      0.000000   \n",
       "50%     89005.000000    1997.000000      2.000000      4.000000     20.000000   \n",
       "75%    143968.500000    2010.000000      2.000000      6.000000     45.000000   \n",
       "max    184451.000000    2018.000000     99.000000  10000.000000  10000.000000   \n",
       "\n",
       "        minplaytime   maxplaytime        minage  users_rated  average_rating  \\\n",
       "count  24379.000000  24379.000000  24379.000000      24380.0         24380.0   \n",
       "mean      30.200008     32.313220      5.562205          0.0             0.0   \n",
       "std      108.705701    111.860042      5.129236          0.0             0.0   \n",
       "min        0.000000      0.000000      0.000000          0.0             0.0   \n",
       "25%        0.000000      0.000000      0.000000          0.0             0.0   \n",
       "50%       15.000000     20.000000      6.000000          0.0             0.0   \n",
       "75%       30.000000     45.000000     10.000000          0.0             0.0   \n",
       "max    10000.000000  10000.000000     90.000000          0.0             0.0   \n",
       "\n",
       "       bayes_average_rating  total_owners  total_traders  total_wanters  \\\n",
       "count               24380.0  24380.000000   24380.000000   24380.000000   \n",
       "mean                    0.0      1.516120       0.079368       0.307588   \n",
       "std                     0.0      2.809881       0.369331       1.685498   \n",
       "min                     0.0      0.000000       0.000000       0.000000   \n",
       "25%                     0.0      0.000000       0.000000       0.000000   \n",
       "50%                     0.0      1.000000       0.000000       0.000000   \n",
       "75%                     0.0      2.000000       0.000000       0.000000   \n",
       "max                     0.0     87.000000      16.000000      72.000000   \n",
       "\n",
       "       total_wishers  total_comments  total_weights  average_weight  \n",
       "count   24380.000000    24380.000000   24380.000000    24380.000000  \n",
       "mean        1.105209        0.230804       0.035439        0.064623  \n",
       "std         7.934577        0.693659       0.199406        0.394526  \n",
       "min         0.000000        0.000000       0.000000        0.000000  \n",
       "25%         0.000000        0.000000       0.000000        0.000000  \n",
       "50%         0.000000        0.000000       0.000000        0.000000  \n",
       "75%         1.000000        0.000000       0.000000        0.000000  \n",
       "max       424.000000       28.000000       3.000000        5.000000  "
      ]
     },
     "execution_count": 45,
     "metadata": {},
     "output_type": "execute_result"
    }
   ],
   "source": [
    "#we have about 25000 games not rated. Lets explore more what this means. For rest, we have avg. prediction of about 6\n",
    "#Print the 1st row of all the games with 0 scores\n",
    "print(df[(df['average_rating']==0)].iloc[0])\n",
    "df[(df['average_rating']==0)].describe() # we see users_rated is 0 for all of these meaning no one has rated these games."
   ]
  },
  {
   "cell_type": "code",
   "execution_count": 70,
   "metadata": {},
   "outputs": [
    {
     "name": "stdout",
     "output_type": "stream",
     "text": [
      "[[<matplotlib.axes._subplots.AxesSubplot object at 0x0000026E3E4FE808>]]\n"
     ]
    },
    {
     "data": {
      "image/png": "[encoded data removed]",
      "text/plain": [
       "<Figure size 432x288 with 1 Axes>"
      ]
     },
     "metadata": {
      "needs_background": "light"
     },
     "output_type": "display_data"
    }
   ],
   "source": [
    "#lets remove those rows where user_rated is 0\n",
    "\n",
    "df = df[df['users_rated']>0]\n",
    "\n",
    "#Also, remove any rows with missing values as that will impact our results too\n",
    "df = df.dropna()\n",
    "\n",
    "#now plotting the histogram again to see the 0s are taken care of\n",
    "print(df.hist(['average_rating']))"
   ]
  },
  {
   "cell_type": "code",
   "execution_count": 63,
   "metadata": {},
   "outputs": [
    {
     "data": {
      "text/plain": [
       "<matplotlib.axes._subplots.AxesSubplot at 0x26e3e439208>"
      ]
     },
     "execution_count": 63,
     "metadata": {},
     "output_type": "execute_result"
    },
    {
     "data": {
      "image/png": "[encoded data removed]",
      "text/plain": [
       "<Figure size 432x432 with 2 Axes>"
      ]
     },
     "metadata": {
      "needs_background": "light"
     },
     "output_type": "display_data"
    }
   ],
   "source": [
    "#lets try a heatmap on the final dataset to show the correlation\n",
    "fig,axes = plt.subplots(1,1,figsize = (6,6))\n",
    "dfc = df.corr() #remember to correlate the data for heat maps\n",
    "sns.heatmap(dfc, cmap = 'coolwarm')"
   ]
  },
  {
   "cell_type": "code",
   "execution_count": 74,
   "metadata": {},
   "outputs": [
    {
     "data": {
      "text/plain": [
       "Index(['yearpublished', 'minplayers', 'maxplayers', 'playingtime',\n",
       "       'minplaytime', 'maxplaytime', 'minage', 'users_rated', 'average_rating',\n",
       "       'total_owners', 'total_traders', 'total_wanters', 'total_wishers',\n",
       "       'total_comments', 'total_weights', 'average_weight'],\n",
       "      dtype='object')"
      ]
     },
     "execution_count": 74,
     "metadata": {},
     "output_type": "execute_result"
    }
   ],
   "source": [
    "#Data pre-processing to remove some data we do not need Ex, Id, bayes_average rating (as its based of average rating)\n",
    "\n",
    "temp = df.drop(['id','name','type','bayes_average_rating'],axis =1)\n",
    "temp.columns"
   ]
  },
  {
   "cell_type": "code",
   "execution_count": 75,
   "metadata": {},
   "outputs": [
    {
     "name": "stdout",
     "output_type": "stream",
     "text": [
      "(39825, 15)\n",
      "(17069, 15)\n"
     ]
    }
   ],
   "source": [
    "#Training the model\n",
    "X = temp.drop('average_rating',axis =1)\n",
    "y = temp['average_rating']\n",
    "X_train, X_test, y_train, y_test = train_test_split(X, y, test_size=0.3, random_state=1)\n",
    "print(X_train.shape)\n",
    "print(X_test.shape)"
   ]
  },
  {
   "cell_type": "code",
   "execution_count": 77,
   "metadata": {},
   "outputs": [
    {
     "name": "stdout",
     "output_type": "stream",
     "text": [
      "5.029030990018921\n"
     ]
    }
   ],
   "source": [
    "#Linear Regression\n",
    "lm = LinearRegression()\n",
    "lm.fit(X_train, y_train)\n",
    "print(lm.intercept_)"
   ]
  },
  {
   "cell_type": "code",
   "execution_count": 78,
   "metadata": {},
   "outputs": [],
   "source": [
    "cdf = pd.DataFrame(lm.coef_, X.columns, columns = ['Coeff'])"
   ]
  },
  {
   "cell_type": "code",
   "execution_count": 79,
   "metadata": {},
   "outputs": [
    {
     "data": {
      "text/html": [
       "<div>\n",
       "<style scoped>\n",
       "    .dataframe tbody tr th:only-of-type {\n",
       "        vertical-align: middle;\n",
       "    }\n",
       "\n",
       "    .dataframe tbody tr th {\n",
       "        vertical-align: top;\n",
       "    }\n",
       "\n",
       "    .dataframe thead th {\n",
       "        text-align: right;\n",
       "    }\n",
       "</style>\n",
       "<table border=\"1\" class=\"dataframe\">\n",
       "  <thead>\n",
       "    <tr style=\"text-align: right;\">\n",
       "      <th></th>\n",
       "      <th>Coeff</th>\n",
       "    </tr>\n",
       "  </thead>\n",
       "  <tbody>\n",
       "    <tr>\n",
       "      <td>yearpublished</td>\n",
       "      <td>0.000172</td>\n",
       "    </tr>\n",
       "    <tr>\n",
       "      <td>minplayers</td>\n",
       "      <td>-0.067743</td>\n",
       "    </tr>\n",
       "    <tr>\n",
       "      <td>maxplayers</td>\n",
       "      <td>0.000288</td>\n",
       "    </tr>\n",
       "    <tr>\n",
       "      <td>playingtime</td>\n",
       "      <td>0.000122</td>\n",
       "    </tr>\n",
       "    <tr>\n",
       "      <td>minplaytime</td>\n",
       "      <td>-0.000157</td>\n",
       "    </tr>\n",
       "    <tr>\n",
       "      <td>maxplaytime</td>\n",
       "      <td>0.000122</td>\n",
       "    </tr>\n",
       "    <tr>\n",
       "      <td>minage</td>\n",
       "      <td>0.037448</td>\n",
       "    </tr>\n",
       "    <tr>\n",
       "      <td>users_rated</td>\n",
       "      <td>-0.000574</td>\n",
       "    </tr>\n",
       "    <tr>\n",
       "      <td>total_owners</td>\n",
       "      <td>0.000385</td>\n",
       "    </tr>\n",
       "    <tr>\n",
       "      <td>total_traders</td>\n",
       "      <td>-0.003400</td>\n",
       "    </tr>\n",
       "    <tr>\n",
       "      <td>total_wanters</td>\n",
       "      <td>0.004188</td>\n",
       "    </tr>\n",
       "    <tr>\n",
       "      <td>total_wishers</td>\n",
       "      <td>-0.000507</td>\n",
       "    </tr>\n",
       "    <tr>\n",
       "      <td>total_comments</td>\n",
       "      <td>0.000446</td>\n",
       "    </tr>\n",
       "    <tr>\n",
       "      <td>total_weights</td>\n",
       "      <td>0.000634</td>\n",
       "    </tr>\n",
       "    <tr>\n",
       "      <td>average_weight</td>\n",
       "      <td>0.358006</td>\n",
       "    </tr>\n",
       "  </tbody>\n",
       "</table>\n",
       "</div>"
      ],
      "text/plain": [
       "                   Coeff\n",
       "yearpublished   0.000172\n",
       "minplayers     -0.067743\n",
       "maxplayers      0.000288\n",
       "playingtime     0.000122\n",
       "minplaytime    -0.000157\n",
       "maxplaytime     0.000122\n",
       "minage          0.037448\n",
       "users_rated    -0.000574\n",
       "total_owners    0.000385\n",
       "total_traders  -0.003400\n",
       "total_wanters   0.004188\n",
       "total_wishers  -0.000507\n",
       "total_comments  0.000446\n",
       "total_weights   0.000634\n",
       "average_weight  0.358006"
      ]
     },
     "execution_count": 79,
     "metadata": {},
     "output_type": "execute_result"
    }
   ],
   "source": [
    "cdf"
   ]
  },
  {
   "cell_type": "code",
   "execution_count": 80,
   "metadata": {},
   "outputs": [
    {
     "data": {
      "text/plain": [
       "<matplotlib.collections.PathCollection at 0x26e3f421848>"
      ]
     },
     "execution_count": 80,
     "metadata": {},
     "output_type": "execute_result"
    },
    {
     "data": {
      "image/png": "[encoded data removed]",
      "text/plain": [
       "<Figure size 432x288 with 1 Axes>"
      ]
     },
     "metadata": {
      "needs_background": "light"
     },
     "output_type": "display_data"
    }
   ],
   "source": [
    "predictions = lm.predict(X_test)\n",
    "plt.scatter(y_test, predictions)"
   ]
  },
  {
   "cell_type": "code",
   "execution_count": 82,
   "metadata": {},
   "outputs": [
    {
     "data": {
      "text/plain": [
       "<matplotlib.axes._subplots.AxesSubplot at 0x26e3e982908>"
      ]
     },
     "execution_count": 82,
     "metadata": {},
     "output_type": "execute_result"
    },
    {
     "data": {
      "image/png": "[encoded data removed]",
      "text/plain": [
       "<Figure size 432x288 with 1 Axes>"
      ]
     },
     "metadata": {
      "needs_background": "light"
     },
     "output_type": "display_data"
    }
   ],
   "source": [
    "sns.distplot((y_test-predictions)) \n",
    "# Model has a normal distribution around 0 for the residuals of test result vs. predictions meaning it worked right"
   ]
  },
  {
   "cell_type": "code",
   "execution_count": 86,
   "metadata": {},
   "outputs": [
    {
     "data": {
      "text/plain": [
       "2.106285996251729"
      ]
     },
     "execution_count": 86,
     "metadata": {},
     "output_type": "execute_result"
    }
   ],
   "source": [
    "from sklearn import metrics\n",
    "metrics.mean_squared_error(y_test, predictions)\n",
    "# MSE value suggests this is not a perfect fit although its a good fit, this is expected as the dataset is complex for a linear model to fit it"
   ]
  },
  {
   "cell_type": "code",
   "execution_count": 90,
   "metadata": {},
   "outputs": [],
   "source": [
    "#RANDOM_FOREST\n",
    "#initialize the model\n",
    "rfr = RandomForestRegressor(n_estimators = 200, random_state =1)\n",
    "\n",
    "#fit to the data\n",
    "rfr.fit(X_train, y_train)\n",
    "\n",
    "#predict the results\n",
    "rfr_pred = rfr.predict(X_test)"
   ]
  },
  {
   "cell_type": "code",
   "execution_count": 91,
   "metadata": {},
   "outputs": [
    {
     "data": {
      "text/plain": [
       "1.4854736684929222"
      ]
     },
     "execution_count": 91,
     "metadata": {},
     "output_type": "execute_result"
    }
   ],
   "source": [
    "#Compute the error between actual and predicted results. THIS IS BETTER THAN LINEAR REG. NON-LINEAR MODEL IS BETTER\n",
    "metrics.mean_squared_error(y_test, rfr_pred)\n"
   ]
  },
  {
   "cell_type": "code",
   "execution_count": 92,
   "metadata": {},
   "outputs": [
    {
     "data": {
      "text/plain": [
       "yearpublished     2013.0000\n",
       "minplayers           2.0000\n",
       "maxplayers           4.0000\n",
       "playingtime         30.0000\n",
       "minplaytime         30.0000\n",
       "maxplaytime         30.0000\n",
       "minage              10.0000\n",
       "users_rated       1119.0000\n",
       "total_owners      1892.0000\n",
       "total_traders       43.0000\n",
       "total_wanters      246.0000\n",
       "total_wishers      609.0000\n",
       "total_comments     327.0000\n",
       "total_weights       88.0000\n",
       "average_weight       1.8977\n",
       "Name: 2602, dtype: float64"
      ]
     },
     "execution_count": 92,
     "metadata": {},
     "output_type": "execute_result"
    }
   ],
   "source": [
    "# Lets try to see one example from the dataset and see how the model predicts\n",
    "X_test.iloc[0]"
   ]
  },
  {
   "cell_type": "code",
   "execution_count": 111,
   "metadata": {},
   "outputs": [
    {
     "name": "stdout",
     "output_type": "stream",
     "text": [
      "Linear Regression Rating: [7.16027427]\n",
      "Random Forest Rating: [6.99456854]\n",
      "\n",
      "\n",
      "Actual result: 7.06652\n"
     ]
    }
   ],
   "source": [
    "ratingLR = lm.predict(X_test.iloc[0].values.reshape(1,-1)) #values.reshape is needed to test on a single value. \n",
    "ratingRF = rfr.predict(X_test.iloc[0].values.reshape(1,-1)) #(1,-1) means 1row and cols is unknown. This is just easier\n",
    "# to write as we dont need to worry about column count. You can also also (1,15) as we know X_test has 15 cols.\n",
    "print('Linear Regression Rating:',ratingLR)\n",
    "\n",
    "print('Random Forest Rating:',ratingRF)\n",
    "print('\\n')\n",
    "print('Actual result:', y_test.iloc[0]) # Random Forest is closer to actual vs. Linear Regression"
   ]
  },
  {
   "cell_type": "code",
   "execution_count": null,
   "metadata": {},
   "outputs": [],
   "source": []
  },
  {
   "cell_type": "code",
   "execution_count": null,
   "metadata": {},
   "outputs": [],
   "source": []
  }
 ],
 "metadata": {
  "kernelspec": {
   "display_name": "Python 3",
   "language": "python",
   "name": "python3"
  },
  "language_info": {
   "codemirror_mode": {
    "name": "ipython",
    "version": 3
   },
   "file_extension": ".py",
   "mimetype": "text/x-python",
   "name": "python",
   "nbconvert_exporter": "python",
   "pygments_lexer": "ipython3",
   "version": "3.7.4"
  }
 },
 "nbformat": 4,
 "nbformat_minor": 2
}
